{
 "cells": [
  {
   "cell_type": "code",
   "execution_count": 1,
   "metadata": {},
   "outputs": [
    {
     "name": "stderr",
     "output_type": "stream",
     "text": [
      "Using TensorFlow backend.\n"
     ]
    }
   ],
   "source": [
    "#importing all needed libraries and packages\n",
    "\n",
    "import numpy as np\n",
    "import keras\n",
    "from keras import backend as K\n",
    "from keras.models import Sequential\n",
    "from keras.layers import Activation, Dropout\n",
    "from keras.layers.core import Dense, Flatten\n",
    "from keras.optimizers import Adam\n",
    "from keras.metrics import categorical_crossentropy\n",
    "from keras.preprocessing.image import ImageDataGenerator\n",
    "from keras.layers.normalization import BatchNormalization\n",
    "from keras.layers.convolutional import *\n",
    "from sklearn.metrics import confusion_matrix\n",
    "import itertools\n",
    "import matplotlib.pyplot as plt\n",
    "%matplotlib inline"
   ]
  },
  {
   "cell_type": "code",
   "execution_count": 2,
   "metadata": {},
   "outputs": [],
   "source": [
    "#defining relative paths from root directory of this python notebook\n",
    "\n",
    "train_path = 'Train'\n",
    "valid_path = 'Validation'\n",
    "test_path = 'Test'"
   ]
  },
  {
   "cell_type": "code",
   "execution_count": 3,
   "metadata": {},
   "outputs": [
    {
     "name": "stdout",
     "output_type": "stream",
     "text": [
      "Found 2080 images belonging to 2 classes.\n",
      "Found 200 images belonging to 2 classes.\n",
      "Found 100 images belonging to 2 classes.\n"
     ]
    }
   ],
   "source": [
    "#getting training,validation and testing data\n",
    "\n",
    "train_batches = ImageDataGenerator().flow_from_directory(train_path,color_mode = 'grayscale', target_size=(100,100), classes=['Open', 'Close'], batch_size=10)\n",
    "valid_batches = ImageDataGenerator().flow_from_directory(valid_path,color_mode = 'grayscale', target_size=(100,100), classes=['Open', 'Close'], batch_size=10)\n",
    "test_batches = ImageDataGenerator().flow_from_directory(test_path,color_mode = 'grayscale', target_size=(100,100), classes=['Open', 'Close'], batch_size=10)"
   ]
  },
  {
   "cell_type": "code",
   "execution_count": 4,
   "metadata": {},
   "outputs": [],
   "source": [
    "#plots images with labels within jupyter notebook\n",
    "#def plots(ims, figsize=(12,6), rows=1, interp=False, titles=None):\n",
    "    #if type(ims[0]) is np.ndarray:\n",
    "        #ims = np.array(ims).astype(np.uint8)\n",
    "        #if (ims.shape[-1] != 1):\n",
    "            #ims = ims.transpose((0,2,3,1))\n",
    "    #f = plt.figure(figsize=figsize)\n",
    "    #cols = len(ims)//rows if len(ims) % 2 == 0 else len(ims)//rows + 1\n",
    "    #for i in range(len(ims)):\n",
    "      #  sp = f.add_subplot(rows, cols, i+1)\n",
    "       # sp.axis('Off')\n",
    "        #if titles is not None:\n",
    "         #   sp.set_title(titles[i], fontsize=16)\n",
    "        #plt.imshow(ims[i], interpolation=None if interp else 'none')"
   ]
  },
  {
   "cell_type": "code",
   "execution_count": 5,
   "metadata": {},
   "outputs": [],
   "source": [
    "imgs, labels = next(train_batches)\n"
   ]
  },
  {
   "cell_type": "code",
   "execution_count": 6,
   "metadata": {},
   "outputs": [],
   "source": [
    "#plots(imgs , titles = labels)"
   ]
  },
  {
   "cell_type": "code",
   "execution_count": 7,
   "metadata": {},
   "outputs": [],
   "source": [
    "def makeModel():\n",
    "    model = Sequential()\n",
    "    #this model was inspired by the VGG 16 model that won the image net competition\n",
    "    \n",
    "    #model architecture is as follows\n",
    "    \n",
    "    #Input==>Conv(64) X 2 ==>maxpool==>Conv(128) X 2==> maxpool==> Conv(256) X 3 \n",
    "    #     ==>maxpool ==> Conv(512) x 2 ==>unroll==>FC(1024)==>FC(1024)==>softmax(2)\n",
    "    \n",
    "    #other than output layer the other activations are RectifiedLinearUnits\n",
    " \n",
    "    model.add(Conv2D(64, (3,3), padding = 'same',\n",
    "                   input_shape=(100,100,1)))\n",
    "    model.add(Activation('relu'))\n",
    "    model.add(Conv2D(64, (3,3), padding='same'))\n",
    "    model.add(Activation('relu'))\n",
    "    model.add(MaxPooling2D(pool_size=(2,2)))\n",
    "    \n",
    "    model.add(Conv2D(128, (2,2), padding= 'same'))\n",
    "    model.add(Activation('relu'))\n",
    "    model.add(Conv2D(128, (2,2), padding= 'same'))\n",
    "    model.add(Activation('relu'))\n",
    "    model.add(MaxPooling2D(pool_size=(2, 2)))\n",
    "    \n",
    "    model.add(Conv2D(256, (2,2), padding='same'))\n",
    "    model.add(Activation('relu'))\n",
    "    model.add(Conv2D(256, (2,2), padding='same'))\n",
    "    model.add(Activation('relu'))\n",
    "    model.add(Conv2D(256, (2,2), padding='same'))\n",
    "    model.add(Activation('relu'))\n",
    "    model.add(MaxPooling2D(pool_size=(2, 2)))\n",
    "    \n",
    "    model.add(Conv2D(512, (2,2), padding='same'))\n",
    "    model.add(Activation('relu'))\n",
    "    model.add(Conv2D(512, (2,2), padding='same'))\n",
    "    model.add(Activation('relu'))\n",
    "    model.add(Dropout(0.2))\n",
    " \n",
    "    model.add(Flatten())\n",
    "    model.add(Dense(1024))\n",
    "    model.add(Activation('relu'))\n",
    "    model.add(Dense(1024))\n",
    "    model.add(Activation('relu'))\n",
    "    model.add(Dense(2))\n",
    "    model.add(Activation('softmax'))\n",
    " \n",
    "    \n",
    "    model.compile(optimizer=Adam(lr=0.00008), \n",
    "                      loss='categorical_crossentropy',\n",
    "                      metrics=['accuracy'])\n",
    " \n",
    "    return model"
   ]
  },
  {
   "cell_type": "code",
   "execution_count": 8,
   "metadata": {},
   "outputs": [
    {
     "name": "stdout",
     "output_type": "stream",
     "text": [
      "_________________________________________________________________\n",
      "Layer (type)                 Output Shape              Param #   \n",
      "=================================================================\n",
      "conv2d_1 (Conv2D)            (None, 100, 100, 64)      640       \n",
      "_________________________________________________________________\n",
      "activation_1 (Activation)    (None, 100, 100, 64)      0         \n",
      "_________________________________________________________________\n",
      "conv2d_2 (Conv2D)            (None, 100, 100, 64)      36928     \n",
      "_________________________________________________________________\n",
      "activation_2 (Activation)    (None, 100, 100, 64)      0         \n",
      "_________________________________________________________________\n",
      "max_pooling2d_1 (MaxPooling2 (None, 50, 50, 64)        0         \n",
      "_________________________________________________________________\n",
      "conv2d_3 (Conv2D)            (None, 50, 50, 128)       32896     \n",
      "_________________________________________________________________\n",
      "activation_3 (Activation)    (None, 50, 50, 128)       0         \n",
      "_________________________________________________________________\n",
      "conv2d_4 (Conv2D)            (None, 50, 50, 128)       65664     \n",
      "_________________________________________________________________\n",
      "activation_4 (Activation)    (None, 50, 50, 128)       0         \n",
      "_________________________________________________________________\n",
      "max_pooling2d_2 (MaxPooling2 (None, 25, 25, 128)       0         \n",
      "_________________________________________________________________\n",
      "conv2d_5 (Conv2D)            (None, 25, 25, 256)       131328    \n",
      "_________________________________________________________________\n",
      "activation_5 (Activation)    (None, 25, 25, 256)       0         \n",
      "_________________________________________________________________\n",
      "conv2d_6 (Conv2D)            (None, 25, 25, 256)       262400    \n",
      "_________________________________________________________________\n",
      "activation_6 (Activation)    (None, 25, 25, 256)       0         \n",
      "_________________________________________________________________\n",
      "conv2d_7 (Conv2D)            (None, 25, 25, 256)       262400    \n",
      "_________________________________________________________________\n",
      "activation_7 (Activation)    (None, 25, 25, 256)       0         \n",
      "_________________________________________________________________\n",
      "max_pooling2d_3 (MaxPooling2 (None, 12, 12, 256)       0         \n",
      "_________________________________________________________________\n",
      "conv2d_8 (Conv2D)            (None, 12, 12, 512)       524800    \n",
      "_________________________________________________________________\n",
      "activation_8 (Activation)    (None, 12, 12, 512)       0         \n",
      "_________________________________________________________________\n",
      "conv2d_9 (Conv2D)            (None, 12, 12, 512)       1049088   \n",
      "_________________________________________________________________\n",
      "activation_9 (Activation)    (None, 12, 12, 512)       0         \n",
      "_________________________________________________________________\n",
      "dropout_1 (Dropout)          (None, 12, 12, 512)       0         \n",
      "_________________________________________________________________\n",
      "flatten_1 (Flatten)          (None, 73728)             0         \n",
      "_________________________________________________________________\n",
      "dense_1 (Dense)              (None, 1024)              75498496  \n",
      "_________________________________________________________________\n",
      "activation_10 (Activation)   (None, 1024)              0         \n",
      "_________________________________________________________________\n",
      "dense_2 (Dense)              (None, 1024)              1049600   \n",
      "_________________________________________________________________\n",
      "activation_11 (Activation)   (None, 1024)              0         \n",
      "_________________________________________________________________\n",
      "dense_3 (Dense)              (None, 2)                 2050      \n",
      "_________________________________________________________________\n",
      "activation_12 (Activation)   (None, 2)                 0         \n",
      "=================================================================\n",
      "Total params: 78,916,290\n",
      "Trainable params: 78,916,290\n",
      "Non-trainable params: 0\n",
      "_________________________________________________________________\n"
     ]
    }
   ],
   "source": [
    "model = makeModel()\n",
    "model.summary()"
   ]
  },
  {
   "cell_type": "code",
   "execution_count": 9,
   "metadata": {},
   "outputs": [
    {
     "name": "stdout",
     "output_type": "stream",
     "text": [
      "Epoch 1/50\n",
      "10/10 [==============================] - 23s 2s/step - loss: 2.1261 - acc: 0.5800 - val_loss: 0.6994 - val_acc: 0.4750\n",
      "Epoch 2/50\n",
      "10/10 [==============================] - 20s 2s/step - loss: 0.7093 - acc: 0.5100 - val_loss: 0.7251 - val_acc: 0.5250\n",
      "Epoch 3/50\n",
      "10/10 [==============================] - 20s 2s/step - loss: 0.6998 - acc: 0.5100 - val_loss: 0.6737 - val_acc: 0.5500\n",
      "Epoch 4/50\n",
      "10/10 [==============================] - 19s 2s/step - loss: 0.6957 - acc: 0.5300 - val_loss: 0.6746 - val_acc: 0.5500\n",
      "Epoch 5/50\n",
      "10/10 [==============================] - 20s 2s/step - loss: 0.6746 - acc: 0.5500 - val_loss: 0.6850 - val_acc: 0.4750\n",
      "Epoch 6/50\n",
      "10/10 [==============================] - 19s 2s/step - loss: 0.6522 - acc: 0.6300 - val_loss: 0.6575 - val_acc: 0.6500\n",
      "Epoch 7/50\n",
      "10/10 [==============================] - 20s 2s/step - loss: 0.6382 - acc: 0.6200 - val_loss: 0.6945 - val_acc: 0.5500\n",
      "Epoch 8/50\n",
      "10/10 [==============================] - 20s 2s/step - loss: 0.6126 - acc: 0.6500 - val_loss: 0.5691 - val_acc: 0.7750\n",
      "Epoch 9/50\n",
      "10/10 [==============================] - 20s 2s/step - loss: 0.6152 - acc: 0.6700 - val_loss: 0.5795 - val_acc: 0.6750\n",
      "Epoch 10/50\n",
      "10/10 [==============================] - 20s 2s/step - loss: 0.5750 - acc: 0.7200 - val_loss: 0.5241 - val_acc: 0.7500\n",
      "Epoch 11/50\n",
      "10/10 [==============================] - 20s 2s/step - loss: 0.5781 - acc: 0.7400 - val_loss: 0.5447 - val_acc: 0.7000\n",
      "Epoch 12/50\n",
      "10/10 [==============================] - 20s 2s/step - loss: 0.5511 - acc: 0.7300 - val_loss: 0.4817 - val_acc: 0.7500\n",
      "Epoch 13/50\n",
      "10/10 [==============================] - 20s 2s/step - loss: 0.5285 - acc: 0.7900 - val_loss: 0.5647 - val_acc: 0.7000\n",
      "Epoch 14/50\n",
      "10/10 [==============================] - 20s 2s/step - loss: 0.5068 - acc: 0.7600 - val_loss: 0.4910 - val_acc: 0.7250\n",
      "Epoch 15/50\n",
      "10/10 [==============================] - 20s 2s/step - loss: 0.5664 - acc: 0.6700 - val_loss: 0.5345 - val_acc: 0.7250\n",
      "Epoch 16/50\n",
      "10/10 [==============================] - 20s 2s/step - loss: 0.5892 - acc: 0.7400 - val_loss: 0.5279 - val_acc: 0.7750\n",
      "Epoch 17/50\n",
      "10/10 [==============================] - 21s 2s/step - loss: 0.5474 - acc: 0.7500 - val_loss: 0.5524 - val_acc: 0.7250\n",
      "Epoch 18/50\n",
      "10/10 [==============================] - 20s 2s/step - loss: 0.4900 - acc: 0.7500 - val_loss: 0.5199 - val_acc: 0.7500\n",
      "Epoch 19/50\n",
      "10/10 [==============================] - 21s 2s/step - loss: 0.3779 - acc: 0.8400 - val_loss: 0.7869 - val_acc: 0.6000\n",
      "Epoch 20/50\n",
      "10/10 [==============================] - 20s 2s/step - loss: 0.4729 - acc: 0.7500 - val_loss: 0.4981 - val_acc: 0.7250\n",
      "Epoch 21/50\n",
      "10/10 [==============================] - 20s 2s/step - loss: 0.3904 - acc: 0.8200 - val_loss: 0.5095 - val_acc: 0.7500\n",
      "Epoch 22/50\n",
      "10/10 [==============================] - 21s 2s/step - loss: 0.3079 - acc: 0.8800 - val_loss: 0.5495 - val_acc: 0.7500\n",
      "Epoch 23/50\n",
      "10/10 [==============================] - 20s 2s/step - loss: 0.3147 - acc: 0.8700 - val_loss: 0.6045 - val_acc: 0.7500\n",
      "Epoch 24/50\n",
      "10/10 [==============================] - 20s 2s/step - loss: 0.4416 - acc: 0.7900 - val_loss: 0.4258 - val_acc: 0.8250\n",
      "Epoch 25/50\n",
      "10/10 [==============================] - 21s 2s/step - loss: 0.4079 - acc: 0.8200 - val_loss: 0.5379 - val_acc: 0.7250\n",
      "Epoch 26/50\n",
      "10/10 [==============================] - 20s 2s/step - loss: 0.4107 - acc: 0.8300 - val_loss: 0.4772 - val_acc: 0.7750\n",
      "Epoch 27/50\n",
      "10/10 [==============================] - 21s 2s/step - loss: 0.3446 - acc: 0.8500 - val_loss: 0.4330 - val_acc: 0.8250\n",
      "Epoch 28/50\n",
      "10/10 [==============================] - 24s 2s/step - loss: 0.3516 - acc: 0.8500 - val_loss: 0.4288 - val_acc: 0.8250\n",
      "Epoch 29/50\n",
      "10/10 [==============================] - 21s 2s/step - loss: 0.3214 - acc: 0.8600 - val_loss: 0.4250 - val_acc: 0.8250\n",
      "Epoch 30/50\n",
      "10/10 [==============================] - 20s 2s/step - loss: 0.2196 - acc: 0.9100 - val_loss: 0.4305 - val_acc: 0.8250\n",
      "Epoch 31/50\n",
      "10/10 [==============================] - 20s 2s/step - loss: 0.3552 - acc: 0.8900 - val_loss: 0.4274 - val_acc: 0.7750\n",
      "Epoch 32/50\n",
      "10/10 [==============================] - 20s 2s/step - loss: 0.3620 - acc: 0.8600 - val_loss: 0.3598 - val_acc: 0.8500\n",
      "Epoch 33/50\n",
      "10/10 [==============================] - 20s 2s/step - loss: 0.2632 - acc: 0.8800 - val_loss: 0.3907 - val_acc: 0.8250\n",
      "Epoch 34/50\n",
      "10/10 [==============================] - 21s 2s/step - loss: 0.1863 - acc: 0.9500 - val_loss: 0.5781 - val_acc: 0.8000\n",
      "Epoch 35/50\n",
      "10/10 [==============================] - 21s 2s/step - loss: 0.2740 - acc: 0.9000 - val_loss: 0.5072 - val_acc: 0.8250\n",
      "Epoch 36/50\n",
      "10/10 [==============================] - 21s 2s/step - loss: 0.3145 - acc: 0.8600 - val_loss: 0.4754 - val_acc: 0.7750\n",
      "Epoch 37/50\n",
      "10/10 [==============================] - 21s 2s/step - loss: 0.2877 - acc: 0.8700 - val_loss: 0.3783 - val_acc: 0.8250\n",
      "Epoch 38/50\n",
      "10/10 [==============================] - 21s 2s/step - loss: 0.3284 - acc: 0.9000 - val_loss: 0.4272 - val_acc: 0.9250\n",
      "Epoch 39/50\n",
      "10/10 [==============================] - 21s 2s/step - loss: 0.1718 - acc: 0.9300 - val_loss: 0.3500 - val_acc: 0.8500\n",
      "Epoch 40/50\n",
      "10/10 [==============================] - 21s 2s/step - loss: 0.2380 - acc: 0.9200 - val_loss: 0.3713 - val_acc: 0.8750\n",
      "Epoch 41/50\n",
      "10/10 [==============================] - 20s 2s/step - loss: 0.2743 - acc: 0.9000 - val_loss: 0.3984 - val_acc: 0.8500\n",
      "Epoch 42/50\n",
      "10/10 [==============================] - 22s 2s/step - loss: 0.2415 - acc: 0.9000 - val_loss: 0.3713 - val_acc: 0.8250\n",
      "Epoch 43/50\n",
      "10/10 [==============================] - 21s 2s/step - loss: 0.1962 - acc: 0.9100 - val_loss: 0.7518 - val_acc: 0.8000\n",
      "Epoch 44/50\n",
      "10/10 [==============================] - 21s 2s/step - loss: 0.2094 - acc: 0.9000 - val_loss: 0.5111 - val_acc: 0.8750\n",
      "Epoch 45/50\n",
      "10/10 [==============================] - 21s 2s/step - loss: 0.0673 - acc: 0.9800 - val_loss: 0.4696 - val_acc: 0.8250\n",
      "Epoch 46/50\n",
      "10/10 [==============================] - 22s 2s/step - loss: 0.1198 - acc: 0.9500 - val_loss: 0.4031 - val_acc: 0.9000\n",
      "Epoch 47/50\n",
      "10/10 [==============================] - 22s 2s/step - loss: 0.1940 - acc: 0.9100 - val_loss: 0.3618 - val_acc: 0.8500\n",
      "Epoch 48/50\n",
      "10/10 [==============================] - 22s 2s/step - loss: 0.1626 - acc: 0.9300 - val_loss: 0.4113 - val_acc: 0.9000\n",
      "Epoch 49/50\n",
      "10/10 [==============================] - 22s 2s/step - loss: 0.2130 - acc: 0.9300 - val_loss: 0.3870 - val_acc: 0.8500\n",
      "Epoch 50/50\n",
      "10/10 [==============================] - 21s 2s/step - loss: 0.2341 - acc: 0.9100 - val_loss: 0.3738 - val_acc: 0.8750\n"
     ]
    },
    {
     "data": {
      "text/plain": [
       "<keras.callbacks.History at 0x7f34dc22c048>"
      ]
     },
     "execution_count": 9,
     "metadata": {},
     "output_type": "execute_result"
    }
   ],
   "source": [
    "model.fit_generator(train_batches, steps_per_epoch=10, \n",
    "                    validation_data=valid_batches, validation_steps=4, epochs=50, verbose=1)"
   ]
  },
  {
   "cell_type": "code",
   "execution_count": 10,
   "metadata": {},
   "outputs": [
    {
     "data": {
      "text/plain": [
       "array([1., 1., 0., 0., 1., 1., 0., 1., 1., 1.], dtype=float32)"
      ]
     },
     "execution_count": 10,
     "metadata": {},
     "output_type": "execute_result"
    }
   ],
   "source": [
    "test_imgs, test_labels = next(test_batches)\n",
    "test_labels = test_labels[:,0]\n",
    "test_labels"
   ]
  },
  {
   "cell_type": "code",
   "execution_count": 11,
   "metadata": {},
   "outputs": [],
   "source": [
    "predictions = model.predict_generator(test_batches, steps=1, verbose=0)\n",
    "predictions\n",
    "for i in range(len(predictions)):\n",
    "    if predictions[i][0]>0.5:\n",
    "        predictions[i][0]= 1\n",
    "        predictions[i][1]= 0\n",
    "    else:\n",
    "        predictions[i][0]= 0\n",
    "        predictions[i][1]= 1"
   ]
  },
  {
   "cell_type": "code",
   "execution_count": 12,
   "metadata": {},
   "outputs": [],
   "source": [
    "cm = confusion_matrix(test_labels, predictions[:,0])"
   ]
  },
  {
   "cell_type": "code",
   "execution_count": 13,
   "metadata": {},
   "outputs": [],
   "source": [
    "def plot_confusion_matrix(cm, classes,\n",
    "                          normalize=False,\n",
    "                          title='Confusion matrix',\n",
    "                          cmap=plt.cm.Blues):\n",
    "    \"\"\"\n",
    "    This function prints and plots the confusion matrix.\n",
    "    Normalization can be applied by setting `normalize=True`.\n",
    "    \"\"\"\n",
    "    plt.imshow(cm, interpolation='nearest', cmap=cmap)\n",
    "    plt.title(title)\n",
    "    plt.colorbar()\n",
    "    tick_marks = np.arange(len(classes))\n",
    "    plt.xticks(tick_marks, classes, rotation=45)\n",
    "    plt.yticks(tick_marks, classes)\n",
    "\n",
    "    if normalize:\n",
    "        cm = cm.astype('float') / cm.sum(axis=1)[:, np.newaxis]\n",
    "        print(\"Normalized confusion matrix\")\n",
    "    else:\n",
    "        print('Confusion matrix, without normalization')\n",
    "\n",
    "    print(cm)\n",
    "\n",
    "    thresh = cm.max() / 2.\n",
    "    for i, j in itertools.product(range(cm.shape[0]), range(cm.shape[1])):\n",
    "        plt.text(j, i, cm[i, j],\n",
    "                 horizontalalignment=\"center\",\n",
    "                 color=\"white\" if cm[i, j] > thresh else \"black\")\n",
    "\n",
    "    plt.tight_layout()\n",
    "    plt.ylabel('True label')\n",
    "    plt.xlabel('Predicted label')"
   ]
  },
  {
   "cell_type": "code",
   "execution_count": 14,
   "metadata": {},
   "outputs": [
    {
     "name": "stdout",
     "output_type": "stream",
     "text": [
      "Confusion matrix, without normalization\n",
      "[[3 0]\n",
      " [0 7]]\n"
     ]
    },
    {
     "data": {
      "image/png": "[encoded data removed]",
      "text/plain": [
       "<Figure size 432x288 with 2 Axes>"
      ]
     },
     "metadata": {},
     "output_type": "display_data"
    }
   ],
   "source": [
    "cm_plot_labels = ['open','close']\n",
    "plot_confusion_matrix(cm, cm_plot_labels, title='Confusion Matrix')"
   ]
  },
  {
   "cell_type": "code",
   "execution_count": null,
   "metadata": {},
   "outputs": [],
   "source": []
  }
 ],
 "metadata": {
  "kernelspec": {
   "display_name": "Python 3",
   "language": "python",
   "name": "python3"
  },
  "language_info": {
   "codemirror_mode": {
    "name": "ipython",
    "version": 3
   },
   "file_extension": ".py",
   "mimetype": "text/x-python",
   "name": "python",
   "nbconvert_exporter": "python",
   "pygments_lexer": "ipython3",
   "version": "3.5.2"
  }
 },
 "nbformat": 4,
 "nbformat_minor": 2
}
